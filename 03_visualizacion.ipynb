{
 "cells": [
  {
   "cell_type": "markdown",
   "id": "9f4244e3",
   "metadata": {},
   "source": [
    "# Revisión de resultados\n",
    "\n",
    "Revisión preeliminar de los resultados y generación de visualización para incluir en la memoria del TFM"
   ]
  },
  {
   "cell_type": "code",
   "execution_count": 1,
   "id": "ce2c06fa",
   "metadata": {},
   "outputs": [],
   "source": [
    "import os\n",
    "from pyspark.sql import SparkSession, functions as F, Window\n",
    "import pandas as pd\n",
    "import numpy as np\n",
    "import matplotlib.pyplot as plt"
   ]
  },
  {
   "cell_type": "code",
   "execution_count": 2,
   "id": "d9c31b1d",
   "metadata": {},
   "outputs": [
    {
     "name": "stderr",
     "output_type": "stream",
     "text": [
      "Setting default log level to \"WARN\".\n",
      "To adjust logging level use sc.setLogLevel(newLevel). For SparkR, use setLogLevel(newLevel).\n",
      "25/09/10 11:36:55 WARN NativeCodeLoader: Unable to load native-hadoop library for your platform... using builtin-java classes where applicable\n"
     ]
    }
   ],
   "source": [
    "spark = SparkSession.builder.appName(\"PAC2024-Visualizacion\").getOrCreate()"
   ]
  },
  {
   "cell_type": "code",
   "execution_count": 3,
   "id": "71b29412",
   "metadata": {},
   "outputs": [],
   "source": [
    "input_path = \"data/pac_2024_anomalias_kmeans/\"\n",
    "output_dir = \"data/pac_sample_viz\"\n",
    "os.makedirs(output_dir, exist_ok=True) "
   ]
  },
  {
   "cell_type": "code",
   "execution_count": 4,
   "id": "decd4e28",
   "metadata": {},
   "outputs": [
    {
     "name": "stderr",
     "output_type": "stream",
     "text": [
      "                                                                                \r"
     ]
    }
   ],
   "source": [
    "df = spark.read.parquet(input_path)"
   ]
  },
  {
   "cell_type": "markdown",
   "id": "2227b39b",
   "metadata": {},
   "source": [
    "## Visualización básica de resultados "
   ]
  },
  {
   "cell_type": "code",
   "execution_count": 5,
   "id": "e0229bc0",
   "metadata": {},
   "outputs": [
    {
     "name": "stderr",
     "output_type": "stream",
     "text": [
      "[Stage 3:>                                                          (0 + 1) / 1]\r"
     ]
    },
    {
     "name": "stdout",
     "output_type": "stream",
     "text": [
      "+-------+----------------------+------------------+-------------------+------------------------------------------------------------------------------------------------------------------------------------------------+-----------------+\n",
      "|n      |mean_anomaly          |std_anomaly       |min_anomaly        |percentiles                                                                                                                                     |max_anomaly      |\n",
      "+-------+----------------------+------------------+-------------------+------------------------------------------------------------------------------------------------------------------------------------------------+-----------------+\n",
      "|2217817|1.2836369699484627E-14|1.0000002254469875|-0.6480860485671216|[-0.6475237495601345, -0.6338821129451712, -0.407826010388501, -0.19928771779860754, 0.10776618854231303, 1.1799441126913337, 2.655021946564461]|278.9492448496908|\n",
      "+-------+----------------------+------------------+-------------------+------------------------------------------------------------------------------------------------------------------------------------------------+-----------------+\n",
      "\n"
     ]
    },
    {
     "name": "stderr",
     "output_type": "stream",
     "text": [
      "                                                                                \r"
     ]
    }
   ],
   "source": [
    "resumen = df.select(\n",
    "    F.count(\"*\").alias(\"n\"),\n",
    "    F.mean(\"anomaly_score\").alias(\"mean_anomaly\"),\n",
    "    F.stddev(\"anomaly_score\").alias(\"std_anomaly\"),\n",
    "    F.min(\"anomaly_score\").alias(\"min_anomaly\"),\n",
    "    F.expr(\"percentile(anomaly_score, array(0.01,0.05,0.25,0.5,0.75,0.95,0.99))\").alias(\"percentiles\"),\n",
    "    F.max(\"anomaly_score\").alias(\"max_anomaly\")\n",
    ")\n",
    "resumen.show(truncate=False)"
   ]
  },
  {
   "cell_type": "code",
   "execution_count": 6,
   "id": "31a6c8d8",
   "metadata": {},
   "outputs": [
    {
     "name": "stdout",
     "output_type": "stream",
     "text": [
      "+-------------------+\n",
      "|     ratio_anomalos|\n",
      "+-------------------+\n",
      "|0.02054768269879796|\n",
      "+-------------------+\n",
      "\n"
     ]
    }
   ],
   "source": [
    "# Proporción de anómalos\n",
    "prop_anom = df.agg(F.mean(F.col(\"ANOMALIA\").cast(\"double\")).alias(\"ratio_anomalos\"))\n",
    "prop_anom.show()"
   ]
  },
  {
   "cell_type": "markdown",
   "id": "f3483e31",
   "metadata": {},
   "source": [
    "### Revisiones específicas"
   ]
  },
  {
   "cell_type": "code",
   "execution_count": 7,
   "id": "6ff18f0e",
   "metadata": {},
   "outputs": [
    {
     "name": "stderr",
     "output_type": "stream",
     "text": [
      "[Stage 7:===================================================>       (7 + 1) / 8]\r"
     ]
    },
    {
     "name": "stdout",
     "output_type": "stream",
     "text": [
      "+-------------------------------------------------------------+----------------------+---------------------------------------------------------------------------------------------------------------------------------------+-------------+-------+------------------+------------------+--------+\n",
      "|BENEFICIARIO                                                 |PROVINCIA_SAFE        |MEDIDA                                                                                                                                 |IMPORTE_EUROS|cluster|dist_to_center    |anomaly_score     |ANOMALIA|\n",
      "+-------------------------------------------------------------+----------------------+---------------------------------------------------------------------------------------------------------------------------------------+-------------+-------+------------------+------------------+--------+\n",
      "|AGROPECUARIA MERLI. S.L.                                     |SL                    |22400 - Monzón                                                                                                                         |0.0          |0      |2106.099435568578 |278.9492448496908 |1       |\n",
      "|ES#00001049                                                  |Jaen                  |II.10   Medidas establecidas en el anexo I del Reglamento 73/2009                                                                      |-7784.76     |0      |1053.2343644032671|138.92119518835318|1       |\n",
      "|JUNTA DE ANDALUCIA                                           |Sevilla               |II.10   Medidas establecidas en el anexo I del Reglamento 73/2009                                                                      |7784.76      |0      |1053.0594107179008|138.8979268475051 |1       |\n",
      "|CANTERO AMPO MIGUEL                                          |Navarra               |VI.15   Medida agroambiental y climática                                                                                               |-0.01        |2      |1794.3801584547602|123.50558344438578|1       |\n",
      "|GALLEGO MARTIN JUAN                                          |Toledo                |VI.5   Recuperación del potencial de producción agrícola dañado por desastres naturales e implantación de medidas preventivas adecuadas|-1015.25     |0      |666.2889771357927 |87.45856299698849 |1       |\n",
      "|INSTITUTO TECNOLÓGICO AGRARIO DE CASTILL                     |Valladolid            |VI.5   Recuperación del potencial de producción agrícola dañado por desastres naturales e implantación de medidas preventivas adecuadas|760260.38    |0      |666.1803026381974 |87.44410959895777 |1       |\n",
      "|FENOY CASADO DIEGO JESÚS                                     |Almeria               |VI.5   Recuperación del potencial de producción agrícola dañado por desastres naturales e implantación de medidas preventivas adecuadas|26117.91     |0      |666.0877208253077 |87.43179648206548 |1       |\n",
      "|SÁNCHEZ LOPEZ FRANCISCO JAVIER                               |Almeria               |VI.5   Recuperación del potencial de producción agrícola dañado por desastres naturales e implantación de medidas preventivas adecuadas|12090.0      |0      |666.0866028223049 |87.43164779085683 |1       |\n",
      "|JUNTA DE ANDALUCIA                                           |Sevilla               |VI.5   Recuperación del potencial de producción agrícola dañado por desastres naturales e implantación de medidas preventivas adecuadas|62367.65     |0      |666.0375265571078 |87.42512078764584 |1       |\n",
      "|JUNTA DE ANDALUCIA                                           |Sevilla               |VI.4   Inversiones en activos físicos                                                                                                  |3.734518838E7|0      |578.7306504650363 |75.8135554351494  |1       |\n",
      "|INSTITUTO TECNOLÓGICO AGRARIO DE CASTILL                     |Valladolid            |VI.4   Inversiones en activos físicos                                                                                                  |3.098185386E7|0      |480.26372441032   |62.71773528762719 |1       |\n",
      "|ASOCIACIÓN CANARIA DE APICULTORES ABECAN                     |Las-Palmas            |IV.8   Ayuda en el sector apícola                                                                                                      |3260.0       |0      |449.65051245193183|58.646265465138256|1       |\n",
      "|ASOC APICULTORES DE TENERIFE                                 |Santa-Cruz-de-Tenerife|IV.8   Ayuda en el sector apícola                                                                                                      |12298.75     |0      |449.27225026570363|58.59595767390386 |1       |\n",
      "|ASOCIACION PALENTINA DE APICULTORES                          |Palencia              |IV.8   Ayuda en el sector apícola                                                                                                      |62.5         |0      |449.13652536948814|58.57790665005661 |1       |\n",
      "|ASOCIACION APICULTORES NORTE DE PALENCIA                     |Palencia              |IV.8   Ayuda en el sector apícola                                                                                                      |608.75       |0      |449.1343820068009 |58.57762158893621 |1       |\n",
      "|ASOCIACIÓN LEONESA DE APICULTORES                            |Leon                  |IV.8   Ayuda en el sector apícola                                                                                                      |1895.48      |0      |449.10387014092015|58.57356359785282 |1       |\n",
      "|ASOCIACION APIALIST                                          |Zamora                |IV.8   Ayuda en el sector apícola                                                                                                      |95.0         |0      |449.1023186074445 |58.57335724832853 |1       |\n",
      "|ASOC UNION PROFESIONAL DE APICULTORES DE                     |Zamora                |IV.8   Ayuda en el sector apícola                                                                                                      |3289.76      |0      |449.10139640627096|58.573234598204344|1       |\n",
      "|MONTEJO LOPEZ DEVORA                                         |Salamanca             |IV.8   Ayuda en el sector apícola                                                                                                      |685.1        |0      |449.09722105088093|58.572679287853646|1       |\n",
      "|ADSG APICOLA DE TOLEDOA.D.S.G.                               |Toledo                |IV.8   Ayuda en el sector apícola                                                                                                      |7736.85      |0      |449.055737397747  |58.56716208037829 |1       |\n",
      "|FERNANDEZ GARCIA NAZARIO                                     |Toledo                |IV.8   Ayuda en el sector apícola                                                                                                      |750.0        |0      |449.0541174785949 |58.56694663575419 |1       |\n",
      "|LOPEZ ORTEGA HORACIO                                         |Granada               |IV.8   Ayuda en el sector apícola                                                                                                      |363.32       |0      |449.0469431510147 |58.565992470661065|1       |\n",
      "|JUNTA DE ANDALUCIA                                           |Sevilla               |VI.25   Asistencia técnica                                                                                                             |1.785253844E7|0      |446.9065927348207 |58.28133197371841 |1       |\n",
      "|VIRGEN DE LAS NIEVESY DELROSARIO - BODEGASARTESONES, S. COOP.|Albacete              |VI.14   Creación de agrupaciones y organizaciones de productores                                                                       |100000.0     |1      |429.91151351077235|57.3939998322488  |1       |\n",
      "|OLINEXO SL                                                   |Albacete              |VI.14   Creación de agrupaciones y organizaciones de productores                                                                       |70000.0      |1      |429.9090282261831 |57.39366369345753 |1       |\n",
      "|OPAZ, SDAD. COOP. DE CLM.                                    |Albacete              |VI.14   Creación de agrupaciones y organizaciones de productores                                                                       |17788.44     |1      |429.9043474575737 |57.39303061187428 |1       |\n",
      "|EUSKALOVO KM0                                                |Alava                 |VI.14   Creación de agrupaciones y organizaciones de productores                                                                       |100000.0     |0      |430.2527289115096 |56.06641561418652 |1       |\n",
      "|BEIGORRI S.COOP.                                             |Vizcaya               |VI.14   Creación de agrupaciones y organizaciones de productores                                                                       |100000.0     |0      |430.1971225026871 |56.05902012050994 |1       |\n",
      "|EUSKABER KOOP S.                                             |Guipuzcoa             |VI.14   Creación de agrupaciones y organizaciones de productores                                                                       |100000.0     |0      |430.1652486733113 |56.05478099216865 |1       |\n",
      "|UNEKO S.COOP.                                                |Guipuzcoa             |VI.14   Creación de agrupaciones y organizaciones de productores                                                                       |100000.0     |0      |430.1652486733113 |56.05478099216865 |1       |\n",
      "|FUNGI CLM, S.L.                                              |Cuenca                |VI.14   Creación de agrupaciones y organizaciones de productores                                                                       |99939.54     |0      |429.9818057951605 |56.030383612907805|1       |\n",
      "|ORO DEL JABALÓN, SDAD. COOP. DE CLM.                         |Ciudad-Real           |VI.14   Creación de agrupaciones y organizaciones de productores                                                                       |100000.0     |0      |429.9636556234905 |56.02796969187503 |1       |\n",
      "|WINEMILLS, S.L.                                              |Ciudad-Real           |VI.14   Creación de agrupaciones y organizaciones de productores                                                                       |92247.48     |0      |429.96299314900614|56.027881584659255|1       |\n",
      "|ÓLEO VIDABOL, SDAD. COOP.CLM                                 |Ciudad-Real           |VI.14   Creación de agrupaciones y organizaciones de productores                                                                       |70000.0      |0      |429.9611678725896 |56.027638828105076|1       |\n",
      "|CORDERO ORGANIC SL                                           |Badajoz               |VI.14   Creación de agrupaciones y organizaciones de productores                                                                       |63139.67     |0      |429.95519539122773|56.02684450512899 |1       |\n",
      "|ASPROCAN                                                     |Santa-Cruz-de-Tenerife|IX.1   Medidas de información y de promoción                                                                                           |1463222.94   |0      |398.955914165437  |51.90402857189033 |1       |\n",
      "|CONSELLO REGULADOR MEXILLON DE GALICIA                       |Pontevedra            |IX.1   Medidas de información y de promoción                                                                                           |887272.58    |0      |398.53460272719326|51.847995352997444|1       |\n",
      "|HAZI FUNDACION                                               |Alava                 |IX.1   Medidas de información y de promoción                                                                                           |539489.82    |0      |398.46367447045446|51.83856209727549 |1       |\n",
      "|SOCIEDAD MERCANTIL ESTATAL DE INFRAESTRU                     |Madrid                |VI.4   Inversiones en activos físicos                                                                                                  |2.569712135E7|0      |398.43920370422853|51.835307555205304|1       |\n",
      "|ORGANIZACIÓN INTERPROFESIONAL DEL ACEITE                     |Madrid                |IX.1   Medidas de información y de promoción                                                                                           |995497.46    |0      |398.3766541212472 |51.82698863918095 |1       |\n",
      "|ASOCIACIÓN INTERPROFESIONAL DEL CERDO IB                     |Badajoz               |IX.1   Medidas de información y de promoción                                                                                           |915157.22    |0      |398.31213794170196|51.81840817142612 |1       |\n",
      "|CONSEJO REGULADOR DE LAS DENOMINACIONES                      |Cadiz                 |IX.1   Medidas de información y de promoción                                                                                           |756995.91    |0      |398.3071895619556 |51.81775005104219 |1       |\n",
      "|ASPROCAN                                                     |Santa-Cruz-de-Tenerife|IX.1   Medidas de información y de promoción                                                                                           |17769.98     |0      |398.2975391959899 |51.81646657991022 |1       |\n",
      "|ORGANIZACIÓN INTERPROFESIONAL DEL ACEITE                     |Madrid                |IX.1   Medidas de información y de promoción                                                                                           |808980.43    |0      |398.27460361228464|51.813416212733976|1       |\n",
      "|INTERACEITUNA                                                |Sevilla               |IX.1   Medidas de información y de promoción                                                                                           |797594.08    |0      |398.25138088398404|51.81032765614605 |1       |\n",
      "|CRDOP JAMÓN DE TERUEL/PALETA DE TERUEL                       |Teruel                |IX.1   Medidas de información y de promoción                                                                                           |611242.28    |0      |398.2375346079993 |51.80848614095638 |1       |\n",
      "|ORGANIZACION INTERPROFESIONAL ESPAÑOLA D                     |Almeria               |IX.1   Medidas de información y de promoción                                                                                           |522117.18    |0      |398.2276878998337 |51.807176556872186|1       |\n",
      "|ASOC PROVACUNO                                               |Madrid                |IX.1   Medidas de información y de promoción                                                                                           |700325.09    |0      |398.224703362112  |51.806779621872856|1       |\n",
      "|AFRUCAT                                                      |Lleida                |IX.1   Medidas de información y de promoción                                                                                           |685382.03    |0      |398.2200378098047 |51.80615911673115 |1       |\n",
      "|INLAC                                                        |Madrid                |IX.1   Medidas de información y de promoción                                                                                           |625777.58    |0      |398.19452106018423|51.802765461854655|1       |\n",
      "+-------------------------------------------------------------+----------------------+---------------------------------------------------------------------------------------------------------------------------------------+-------------+-------+------------------+------------------+--------+\n",
      "\n"
     ]
    },
    {
     "name": "stderr",
     "output_type": "stream",
     "text": [
      "                                                                                \r"
     ]
    }
   ],
   "source": [
    "# Top-N por anomaly_score\n",
    "N = 50\n",
    "cols_top = [\"BENEFICIARIO\",\"PROVINCIA_SAFE\",\"MEDIDA\",\"IMPORTE_EUROS\",\n",
    "            \"cluster\",\"dist_to_center\",\"anomaly_score\",\"ANOMALIA\"]\n",
    "top_outliers = df.orderBy(F.col(\"anomaly_score\").desc()).select(*cols_top).limit(N)\n",
    "top_outliers.show(N, truncate=False)"
   ]
  },
  {
   "cell_type": "code",
   "execution_count": 8,
   "id": "8f00144c",
   "metadata": {},
   "outputs": [
    {
     "name": "stdout",
     "output_type": "stream",
     "text": [
      "+-------+-------+-----------------------+------------------+--------------------+\n",
      "|cluster|n      |mean_anomaly           |std_anomaly       |ratio_anom          |\n",
      "+-------+-------+-----------------------+------------------+--------------------+\n",
      "|0      |2143645|6.639344840657035E-15  |1.0000002332476727|0.019919342988227996|\n",
      "|1      |53773  |-1.2250566667999033E-15|1.0000092984764477|0.04915106094136463 |\n",
      "|2      |20399  |-1.2067232790193548E-15|1.0000245119066613|0.011177018481298102|\n",
      "+-------+-------+-----------------------+------------------+--------------------+\n",
      "\n"
     ]
    }
   ],
   "source": [
    "# Por clúster media de score y ratio de anomalías\n",
    "by_cluster = df.groupBy(\"cluster\").agg(\n",
    "    F.count(\"*\").alias(\"n\"),\n",
    "    F.mean(\"anomaly_score\").alias(\"mean_anomaly\"),\n",
    "    F.stddev(\"anomaly_score\").alias(\"std_anomaly\"),\n",
    "    F.mean(F.col(\"ANOMALIA\").cast(\"double\")).alias(\"ratio_anom\")\n",
    ").orderBy(\"cluster\")\n",
    "by_cluster.show(truncate=False)"
   ]
  },
  {
   "cell_type": "code",
   "execution_count": 9,
   "id": "c1af284f",
   "metadata": {},
   "outputs": [
    {
     "name": "stdout",
     "output_type": "stream",
     "text": [
      "+----------------------+-----+-----------------------+--------------------+\n",
      "|PROVINCIA_SAFE        |n    |mean_anomaly           |ratio_anom          |\n",
      "+----------------------+-----+-----------------------+--------------------+\n",
      "|Las-Palmas            |3940 |3.2888402418961338     |0.9446700507614213  |\n",
      "|Santa-Cruz-de-Tenerife|10023|2.2520728803341705     |0.8113339319565     |\n",
      "|Ourense               |9558 |1.3838318853808451     |0.12115505335844319 |\n",
      "|Pontevedra            |10497|1.2250980923540717     |0.08726302753167571 |\n",
      "|Alava                 |8059 |1.3734285541002857     |0.08698349671175083 |\n",
      "|Cantabria             |20592|0.5820391226721915     |0.06837606837606838 |\n",
      "|Asturias              |39782|0.2797218275202876     |0.06739228796943342 |\n",
      "|Girona                |13388|0.850858597517955      |0.05123991634299373 |\n",
      "|Albacete              |53773|-1.2250566667999033E-15|0.04915106094136463 |\n",
      "|Guadalajara           |14321|0.7020008228147775     |0.03533272816144124 |\n",
      "|Illes-Balears         |19669|0.4745479333272517     |0.03223346382632569 |\n",
      "|Vizcaya               |9755 |1.02443774520789       |0.028293182983085596|\n",
      "|Barcelona             |31299|0.3031220178335655     |0.027924214831144763|\n",
      "|A-Coruna              |29735|0.30871242403313087    |0.025794518244493022|\n",
      "|Almeria               |24181|0.44260329879732935    |0.024109838302799717|\n",
      "|Soria                 |14440|0.6791753732500352     |0.023060941828254848|\n",
      "|La-Rioja              |19794|0.6113255574856298     |0.022127917550772962|\n",
      "|Lugo                  |46425|0.09362645055813706    |0.021583198707592892|\n",
      "|Guipuzcoa             |11093|0.8922912592017175     |0.021454971603714054|\n",
      "|Cuenca                |54031|0.009232854573907283   |0.021450648701671262|\n",
      "+----------------------+-----+-----------------------+--------------------+\n",
      "only showing top 20 rows\n",
      "\n"
     ]
    }
   ],
   "source": [
    "# Por provincia (top 20 por ratio_anom, con mínimo tamaño para estabilidad)\n",
    "min_n = 1000\n",
    "by_prov = (df.groupBy(\"PROVINCIA_SAFE\")\n",
    "             .agg(F.count(\"*\").alias(\"n\"),\n",
    "                  F.mean(\"anomaly_score\").alias(\"mean_anomaly\"),\n",
    "                  F.mean(F.col(\"ANOMALIA\").cast(\"double\")).alias(\"ratio_anom\"))\n",
    "             .where(F.col(\"n\") >= min_n)\n",
    "             .orderBy(F.col(\"ratio_anom\").desc()))\n",
    "by_prov.show(20, truncate=False)"
   ]
  },
  {
   "cell_type": "code",
   "execution_count": 10,
   "id": "103f5203",
   "metadata": {},
   "outputs": [
    {
     "name": "stdout",
     "output_type": "stream",
     "text": [
      "+-----------------------------------------------------------------------------------------------------------------------+-----+------------------+---------------------+\n",
      "|MEDIDA                                                                                                                 |n    |mean_anomaly      |ratio_anom           |\n",
      "+-----------------------------------------------------------------------------------------------------------------------+-----+------------------+---------------------+\n",
      "|VI.11   Prevención y reparación de los daños causados a los bosques por incendios, desastres naturales y catástrofes   |1580 |4.143900326038061 |1.0                  |\n",
      "|III.2   En el sector de los productos apícolas                                                                         |2708 |3.9914205744335525|1.0                  |\n",
      "|VI.12   Inversiones para incrementar la capacidad de adaptación y el valor medioambiental de los ecosistemas forestales|1109 |4.945092488557745 |1.0                  |\n",
      "|VI.19   Bienestar de los animales                                                                                      |2061 |3.4458566154387857|1.0                  |\n",
      "|IV.6   Ayuda en el sector vitivinícola                                                                                 |2155 |3.291365620108405 |1.0                  |\n",
      "|VI.17   Pagos al amparo de Natura 2000 y de la Directiva Marco del Agua                                                |3038 |2.6168265520604126|1.0                  |\n",
      "|VI.3   Regímenes de calidad de los productos agrícolas y alimenticios                                                  |2851 |2.7759220683632706|0.9989477376359173   |\n",
      "|VI.24   Ayuda para el desarrollo local de Leader (desarrollo local participativo)                                      |3237 |2.5505088000185085|0.9839357429718876   |\n",
      "|VII.1   Medidas establecidas en el Reglamento 228/2013                                                                 |11596|2.6350052769497943|0.9306657468092445   |\n",
      "|II.1   Régimen de pago básico                                                                                          |3823 |2.170186919992712 |0.45932513732670677  |\n",
      "|II.11   Recuperaciones                                                                                                 |12692|2.0466000106506455|0.20130791049479987  |\n",
      "|I.3   Ayuda complementaria a la renta para jóvenes agricultores                                                        |12805|2.012724815751155 |0.15244045294806716  |\n",
      "|VI.6   Desarrollo de explotaciones agrícolas y empresas                                                                |5805 |1.7663365026326752|0.13453919035314385  |\n",
      "|III.3   En el sector vitivinícola                                                                                      |6354 |2.2296174614179476|0.11677683349071451  |\n",
      "|II.4   Pago para prácticas agrícolas beneficiosas para el clima y el medio ambiente                                    |5852 |1.661242714555612 |0.10047846889952153  |\n",
      "|VI.9   Forestación y creación de superficies forestales                                                                |5375 |1.8166369745244406|0.064                |\n",
      "|VI.16   Agricultura ecológica                                                                                          |8209 |1.349611587489981 |0.06066512364478012  |\n",
      "|VI.15   Medida agroambiental y climática                                                                               |13536|1.0048161666673565|0.047724586288416075 |\n",
      "|VI.4   Inversiones en activos físicos                                                                                  |8491 |1.4318026525315117|0.02861853727476151  |\n",
      "|I.7   Pago específico al cultivo del algodón                                                                           |4402 |1.9246928238224734|4.5433893684688776E-4|\n",
      "+-----------------------------------------------------------------------------------------------------------------------+-----+------------------+---------------------+\n",
      "only showing top 20 rows\n",
      "\n"
     ]
    },
    {
     "name": "stderr",
     "output_type": "stream",
     "text": [
      "                                                                                \r"
     ]
    }
   ],
   "source": [
    "# Por medida (intervención)\n",
    "by_medida = (df.groupBy(\"MEDIDA\")\n",
    "               .agg(F.count(\"*\").alias(\"n\"),\n",
    "                    F.mean(\"anomaly_score\").alias(\"mean_anomaly\"),\n",
    "                    F.mean(F.col(\"ANOMALIA\").cast(\"double\")).alias(\"ratio_anom\"))\n",
    "               .where(F.col(\"n\") >= min_n)\n",
    "               .orderBy(F.col(\"ratio_anom\").desc()))\n",
    "by_medida.show(20, truncate=False)"
   ]
  },
  {
   "cell_type": "markdown",
   "id": "58aa07dd",
   "metadata": {},
   "source": [
    "## Visualización gráfica"
   ]
  },
  {
   "cell_type": "code",
   "execution_count": 11,
   "id": "a2cd4c11",
   "metadata": {},
   "outputs": [],
   "source": [
    "# Configuracion para plots\n",
    "plt.rcParams.update({\n",
    "    \"figure.figsize\": (8, 5),\n",
    "    \"figure.dpi\": 100,\n",
    "    \"savefig.dpi\": 300,\n",
    "    \"font.size\": 11,\n",
    "    \"axes.titlesize\": 12,\n",
    "    \"axes.labelsize\": 11,\n",
    "    \"axes.grid\": True,\n",
    "    \"grid.alpha\": 0.25,\n",
    "    \"legend.fontsize\": 10,\n",
    "    \"xtick.labelsize\": 10,\n",
    "    \"ytick.labelsize\": 10,\n",
    "})"
   ]
  },
  {
   "cell_type": "markdown",
   "id": "ed629ccb",
   "metadata": {},
   "source": [
    "### Distribución general"
   ]
  },
  {
   "cell_type": "code",
   "execution_count": null,
   "id": "001890cc",
   "metadata": {},
   "outputs": [],
   "source": [
    "pdf_dist = (df.select(\"anomaly_score\", \"ANOMALIA\")\n",
    "              .sample(withReplacement=False, fraction=1.0, seed=42)  \n",
    "              .toPandas())\n",
    "\n",
    "\n",
    "# Boxplot anomaly_score\n",
    "plt.figure()\n",
    "pdf_dist.boxplot(column=\"anomaly_score\")\n",
    "plt.title(\"Boxplot de la puntuación de anomalía\")\n",
    "plt.ylabel(\"anomaly_score\")\n",
    "plt.tight_layout()\n",
    "plt.savefig(os.path.join(output_dir, \"boxplot_anomaly_score.png\"))\n",
    "plt.savefig(os.path.join(output_dir, \"boxplot_anomaly_score.pdf\"))\n",
    "plt.close()"
   ]
  },
  {
   "cell_type": "markdown",
   "id": "25fc8d1a",
   "metadata": {},
   "source": [
    "## Por cluster"
   ]
  },
  {
   "cell_type": "code",
   "execution_count": 13,
   "id": "4ea9d25a",
   "metadata": {},
   "outputs": [],
   "source": [
    "# se realiza con todo el dataset\n",
    "pdf_cluster = (df.groupBy(\"cluster\")\n",
    "                .agg(F.count(\"*\").alias(\"n\"),\n",
    "                     F.mean(\"anomaly_score\").alias(\"mean_anomaly\"),\n",
    "                     F.stddev(\"anomaly_score\").alias(\"std_anomaly\"),\n",
    "                     F.mean(F.col(\"ANOMALIA\").cast(\"double\")).alias(\"ratio_anom\"))\n",
    "                .orderBy(\"cluster\")).toPandas()\n",
    "\n",
    "# Ratio de anómalos por clúster\n",
    "plt.figure()\n",
    "plt.bar(pdf_cluster[\"cluster\"].astype(str), pdf_cluster[\"ratio_anom\"])\n",
    "plt.title(\"Proporción de anomalías por clúster\")\n",
    "plt.xlabel(\"Clúster\")\n",
    "plt.ylabel(\"Ratio de ANOMALIA=1\")\n",
    "plt.tight_layout()\n",
    "plt.savefig(os.path.join(output_dir, \"bar_ratio_anom_por_cluster.png\"))\n",
    "plt.savefig(os.path.join(output_dir, \"bar_ratio_anom_por_cluster.pdf\"))\n",
    "plt.close()\n",
    "\n",
    "# Media de anomaly_score por clúster\n",
    "plt.figure()\n",
    "plt.bar(pdf_cluster[\"cluster\"].astype(str), pdf_cluster[\"mean_anomaly\"])\n",
    "plt.title(\"Media de anomaly_score por clúster\")\n",
    "plt.xlabel(\"Clúster\")\n",
    "plt.ylabel(\"Media de anomaly_score\")\n",
    "plt.tight_layout()\n",
    "plt.savefig(os.path.join(output_dir, \"bar_mean_anomaly_por_cluster.png\"))\n",
    "plt.savefig(os.path.join(output_dir, \"bar_mean_anomaly_por_cluster.pdf\"))\n",
    "plt.close()\n"
   ]
  },
  {
   "cell_type": "code",
   "execution_count": null,
   "id": "f77ce7d8",
   "metadata": {},
   "outputs": [],
   "source": [
    "# Dispersión IMPORTE_LOG vs anomaly_score por clúster\n",
    "# Submuestreo opcional para claridad en el scatter\n",
    "df_scatter = (df.select(\"cluster\", \"IMPORTE_LOG\", \"anomaly_score\")\n",
    "                .dropna()\n",
    "                .sample(False, 0.2, seed=42))  # 20% del sample\n",
    "pdf_scatter = df_scatter.toPandas()\n",
    "\n",
    "clusters = sorted(pdf_scatter[\"cluster\"].unique())\n",
    "\n",
    "cols = 2\n",
    "rows = 2\n",
    "\n",
    "fig, axes = plt.subplots(rows, cols, figsize=(10,8), sharex=True, sharey=True)\n",
    "\n",
    "axes = axes.ravel()\n",
    "\n",
    "for i, c in enumerate(clusters):\n",
    "    ax = axes[i]\n",
    "    sub = pdf_scatter[pdf_scatter[\"cluster\"] == c]\n",
    "    ax.scatter(sub[\"IMPORTE_LOG\"], sub[\"anomaly_score\"], s=6, alpha=0.35)\n",
    "    ax.set_title(f\"Clúster {c}\")\n",
    "    ax.set_xlabel(\"IMPORTE_LOG\")\n",
    "    ax.set_ylabel(\"anomaly_score\")\n",
    "\n",
    "for j in range(i+1, len(axes)):\n",
    "    fig.delaxes(axes[j])\n",
    "\n",
    "fig.suptitle(\"Dispersión de Importe (log) vs anomaly score por clúster\", y=0.98)\n",
    "fig.tight_layout()\n",
    "fig.savefig(os.path.join(output_dir, \"scatter_importe_anomaly_por_cluster.png\"), dpi=300)\n",
    "fig.savefig(os.path.join(output_dir, \"scatter_importe_anomaly_por_cluster.pdf\"))\n",
    "plt.close(fig)\n"
   ]
  },
  {
   "cell_type": "code",
   "execution_count": 15,
   "id": "35e411b4",
   "metadata": {},
   "outputs": [],
   "source": [
    "# Clear the cache in Spark\n",
    "spark.catalog.clearCache()\n",
    "\n",
    "# Stop the Spark session\n",
    "spark.stop()"
   ]
  }
 ],
 "metadata": {
  "kernelspec": {
   "display_name": "ml-spark-use-case (3.11.7)",
   "language": "python",
   "name": "python3"
  },
  "language_info": {
   "codemirror_mode": {
    "name": "ipython",
    "version": 3
   },
   "file_extension": ".py",
   "mimetype": "text/x-python",
   "name": "python",
   "nbconvert_exporter": "python",
   "pygments_lexer": "ipython3",
   "version": "3.11.7"
  }
 },
 "nbformat": 4,
 "nbformat_minor": 5
}
