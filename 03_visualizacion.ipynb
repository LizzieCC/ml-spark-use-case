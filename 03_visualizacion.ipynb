{
 "cells": [
  {
   "cell_type": "code",
   "execution_count": 2,
   "id": "ce2c06fa",
   "metadata": {},
   "outputs": [],
   "source": [
    "import os\n",
    "from pyspark.sql import SparkSession, functions as F\n",
    "import pandas as pd\n",
    "import matplotlib.pyplot as plt"
   ]
  },
  {
   "cell_type": "code",
   "execution_count": 3,
   "id": "d9c31b1d",
   "metadata": {},
   "outputs": [
    {
     "name": "stderr",
     "output_type": "stream",
     "text": [
      "Setting default log level to \"WARN\".\n",
      "To adjust logging level use sc.setLogLevel(newLevel). For SparkR, use setLogLevel(newLevel).\n",
      "25/09/07 00:02:49 WARN NativeCodeLoader: Unable to load native-hadoop library for your platform... using builtin-java classes where applicable\n",
      "25/09/07 00:02:49 WARN Utils: Service 'SparkUI' could not bind on port 4040. Attempting port 4041.\n",
      "25/09/07 00:02:49 WARN Utils: Service 'SparkUI' could not bind on port 4041. Attempting port 4042.\n",
      "25/09/07 00:02:49 WARN Utils: Service 'SparkUI' could not bind on port 4042. Attempting port 4043.\n"
     ]
    }
   ],
   "source": [
    "spark = SparkSession.builder.appName(\"PAC2024-Visualizacion\").getOrCreate()"
   ]
  },
  {
   "cell_type": "code",
   "execution_count": 8,
   "id": "71b29412",
   "metadata": {},
   "outputs": [],
   "source": [
    "input_path = \"data/espacio_datos/pac_2024_anomalias_kmeans\"\n",
    "output_dir = \"data/pac_2024_viz\""
   ]
  },
  {
   "cell_type": "code",
   "execution_count": 9,
   "id": "decd4e28",
   "metadata": {},
   "outputs": [],
   "source": [
    "df = spark.read.parquet(input_path)"
   ]
  },
  {
   "cell_type": "code",
   "execution_count": 18,
   "id": "6a298a2d",
   "metadata": {},
   "outputs": [
    {
     "name": "stdout",
     "output_type": "stream",
     "text": [
      "+---------------------------------+------------+-----------------------------------------------------------------------------------+---------------+------+--------+------------+------------+-------------+-----------+------------------+------------+-----------+------------+-----------+------------+-------+------------------+-------------------+--------+--------------+\n",
      "|BENEFICIARIO                     |MUNICIPIO   |MEDIDA                                                                             |OBJETIVO_ESP   |FEAGA |FEADER  |IMPORTECOFIN|FEADER_COFIN|IMPORTE_EUROS|IMPORTE_ABS|IMPORTE_LOG       |IMPORTE_SIGN|FEAGA_ratio|FEADER_ratio|COFIN_ratio|IS_RECUP_ANY|cluster|dist_to_center    |anomaly_score      |ANOMALIA|PROVINCIA_SAFE|\n",
      "+---------------------------------+------------+-----------------------------------------------------------------------------------+---------------+------+--------+------------+------------+-------------+-----------+------------------+------------+-----------+------------+-----------+------------+-------+------------------+-------------------+--------+--------------+\n",
      "|ARANDA QUESADA JOSE              |23001 - Jaén|V.2   Zonas con limitaciones naturales u otras limitaciones específicas            |OE1            |0.0   |1009.8  |178.2       |1188.0      |1188.0       |1188.0     |7.080867896690782 |1.0         |0.0        |0.85        |0.15       |0           |0      |8.125460401224972 |0.2749549664855595 |0       |Jaen          |\n",
      "|LIEBANA CAMARA ASUNCION          |23001 - Jaén|VI.15   Medida agroambiental y climática                                           |               |0.0   |2464.02 |821.34      |3285.36     |3285.36      |3285.36    |8.097535848287237 |1.0         |0.0        |0.75        |0.25       |0           |1      |13.707449110826513|0.24684996218976463|0       |Jaen          |\n",
      "|JOSE Y ANDRES PICON ZAMBRANA C.B.|23001 - Jaén|V.1   Compromisos medioambientales y climáticos y otros compromisos de gestión     |OE4|OE5|OE6|OE9|0.0   |12205.32|2153.88     |14359.2     |14359.2      |14359.2    |9.57221577008183  |1.0         |0.0        |0.85        |0.15       |0           |1      |11.077659831112829|0.02613861784752159|0       |Jaen          |\n",
      "|CORBELLINI MOLLEJA MARIA EUGENIA |23001 - Jaén|II.4   Pago para prácticas agrícolas beneficiosas para el clima y el medio ambiente|               |2.97  |0.0     |0.0         |0.0         |2.97         |2.97       |1.3787660946990992|1.0         |1.0        |0.0         |0.0        |0           |1      |20.04716843216552 |0.7789260433264126 |0       |Jaen          |\n",
      "|VALENZUELA RINCON JOSE MARIA     |23001 - Jaén|I.6   Ayuda a la renta asociada                                                    |OE2|OE5        |28.25 |0.0     |0.0         |0.0         |28.25        |28.25      |3.3758795736778655|1.0         |1.0        |0.0         |0.0        |0           |3      |3.5989474925958316|-1.0750004745536519|0       |Jaen          |\n",
      "|ES#00227852                      |23001 - Jaén|I.2   Ayuda redistributiva complementaria a la renta para la sostenibilidad        |OE1            |30.11 |0.0     |0.0         |0.0         |30.11        |30.11      |3.4375293109095457|1.0         |1.0        |0.0         |0.0        |0           |0      |3.842885545325722 |-0.8243959840702462|0       |Jaen          |\n",
      "|ES#00210584                      |23001 - Jaén|I.6   Ayuda a la renta asociada                                                    |OE2|OE5        |30.34 |0.0     |0.0         |0.0         |30.34        |30.34      |3.444895236927875 |1.0         |1.0        |0.0         |0.0        |0           |3      |3.5832256013902106|-1.08021744969308  |0       |Jaen          |\n",
      "|ES#00213950                      |23001 - Jaén|I.6   Ayuda a la renta asociada                                                    |OE2|OE5        |32.44 |0.0     |0.0         |0.0         |32.44        |32.44      |3.5097527882165007|1.0         |1.0        |0.0         |0.0        |0           |3      |3.5687454924660638|-1.0850223657992593|0       |Jaen          |\n",
      "|ES#00474672                      |23001 - Jaén|I.2   Ayuda redistributiva complementaria a la renta para la sostenibilidad        |OE1            |37.46 |0.0     |0.0         |0.0         |37.46        |37.46      |3.6496187401606335|1.0         |1.0        |0.0         |0.0        |0           |0      |3.7895235067497164|-0.8380941936301604|0       |Jaen          |\n",
      "|ORTEGA FERNANDEZ FRANCISCA       |23001 - Jaén|I.6   Ayuda a la renta asociada                                                    |OE2|OE5        |42.38 |0.0     |0.0         |0.0         |42.38        |42.38      |3.7699985053987284|1.0         |1.0        |0.0         |0.0        |0           |3      |3.513584044781597 |-1.1033265187450478|0       |Jaen          |\n",
      "|ES#00181839                      |23001 - Jaén|I.6   Ayuda a la renta asociada                                                    |OE2|OE5        |43.95 |0.0     |0.0         |0.0         |43.95        |43.95      |3.8055507609176296|1.0         |1.0        |0.0         |0.0        |0           |3      |3.506421968128009 |-1.10570310152124  |0       |Jaen          |\n",
      "|ES#00223607                      |23001 - Jaén|I.2   Ayuda redistributiva complementaria a la renta para la sostenibilidad        |OE1            |45.54 |0.0     |0.0         |0.0         |45.54        |45.54      |3.8403121578741457|1.0         |1.0        |0.0         |0.0        |0           |0      |3.7439120543617452|-0.8498028024055271|0       |Jaen          |\n",
      "|CORBELLINI MOLLEJA MARIA AMPARO  |23001 - Jaén|I.6   Ayuda a la renta asociada                                                    |OE2|OE5        |46.04 |0.0     |0.0         |0.0         |46.04        |46.04      |3.850998303590371 |1.0         |1.0        |0.0         |0.0        |0           |3      |3.497399843482347 |-1.1086969016541663|0       |Jaen          |\n",
      "|ES#00220416                      |23001 - Jaén|I.2   Ayuda redistributiva complementaria a la renta para la sostenibilidad        |OE1            |47.01 |0.0     |0.0         |0.0         |47.01        |47.01      |3.8714093225428488|1.0         |1.0        |0.0         |0.0        |0           |0      |3.7366925511468927|-0.8516560724565703|0       |Jaen          |\n",
      "|ES#00529633                      |23001 - Jaén|I.2   Ayuda redistributiva complementaria a la renta para la sostenibilidad        |OE1            |47.01 |0.0     |0.0         |0.0         |47.01        |47.01      |3.8714093225428488|1.0         |1.0        |0.0         |0.0        |0           |0      |3.7366925511468927|-0.8516560724565703|0       |Jaen          |\n",
      "|ES#00207250                      |23001 - Jaén|I.2   Ayuda redistributiva complementaria a la renta para la sostenibilidad        |OE1            |49.95 |0.0     |0.0         |0.0         |49.95        |49.95      |3.9308447596687337|1.0         |1.0        |0.0         |0.0        |0           |0      |3.7230675640305533|-0.855153651142679 |0       |Jaen          |\n",
      "|GALAN ZAFRA RAMON                |23001 - Jaén|I.6   Ayuda a la renta asociada                                                    |OE2|OE5        |50.75 |0.0     |0.0         |0.0         |50.75        |50.75      |3.9464244321454784|1.0         |1.0        |0.0         |0.0        |0           |3      |3.478948044112173 |-1.1148197387437333|0       |Jaen          |\n",
      "|ES#00475427                      |23001 - Jaén|I.6   Ayuda a la renta asociada                                                    |OE2|OE5        |51.27 |0.0     |0.0         |0.0         |51.27        |51.27      |3.9564225927248304|1.0         |1.0        |0.0         |0.0        |0           |3      |3.4770536753783396|-1.1154483447085035|0       |Jaen          |\n",
      "|ES#00219814                      |23001 - Jaén|I.6   Ayuda a la renta asociada                                                    |OE2|OE5        |53.36 |0.0     |0.0         |0.0         |53.36        |53.36      |3.995628589282943 |1.0         |1.0        |0.0         |0.0        |0           |3      |3.4696970007780177|-1.1178895006735707|0       |Jaen          |\n",
      "|ES#00216681                      |23001 - Jaén|I.2   Ayuda redistributiva complementaria a la renta para la sostenibilidad        |OE1            |53.62 |0.0     |0.0         |0.0         |53.62        |53.62      |4.000400116045559 |1.0         |1.0        |0.0         |0.0        |0           |0      |3.7074148598586523|-0.8591717514186017|0       |Jaen          |\n",
      "|ES#00219531                      |23001 - Jaén|I.2   Ayuda redistributiva complementaria a la renta para la sostenibilidad        |OE1            |57.29 |0.0     |0.0         |0.0         |57.29        |57.29      |4.0654305520574585|1.0         |1.0        |0.0         |0.0        |0           |0      |3.693068823360739 |-0.8628544258355975|0       |Jaen          |\n",
      "|ES#00180755                      |23001 - Jaén|I.6   Ayuda a la renta asociada                                                    |OE2|OE5        |58.07 |0.0     |0.0         |0.0         |58.07        |58.07      |4.078723181319144 |1.0         |1.0        |0.0         |0.0        |0           |3      |3.454485693243799 |-1.122937049483465 |0       |Jaen          |\n",
      "|MUÑOZ MUÑOZ MARIA LUCIA          |23001 - Jaén|I.6   Ayuda a la renta asociada                                                    |OE2|OE5        |58.07 |0.0     |0.0         |0.0         |58.07        |58.07      |4.078723181319144 |1.0         |1.0        |0.0         |0.0        |0           |3      |3.454485693243799 |-1.122937049483465 |0       |Jaen          |\n",
      "|ES#00507689                      |23001 - Jaén|I.2   Ayuda redistributiva complementaria a la renta para la sostenibilidad        |OE1            |63.9  |0.0     |0.0         |0.0         |63.9         |63.9       |4.1728476237100445|1.0         |1.0        |0.0         |0.0        |0           |0      |3.6699912864105535|-0.8687785049320143|0       |Jaen          |\n",
      "|ES#00219139                      |23001 - Jaén|I.2   Ayuda redistributiva complementaria a la renta para la sostenibilidad        |OE1            |64.64 |0.0     |0.0         |0.0         |64.64        |64.64      |4.18418526622189  |1.0         |1.0        |0.0         |0.0        |0           |0      |3.6676009943432373|-0.8693921007113595|0       |Jaen          |\n",
      "|MARTINEZ ESTEBAN MANUEL          |23001 - Jaén|I.6   Ayuda a la renta asociada                                                    |OE2|OE5        |65.92 |0.0     |0.0         |0.0         |65.92        |65.92      |4.2034978761186235|1.0         |1.0        |0.0         |0.0        |0           |3      |3.432628704920623 |-1.1301898260873389|0       |Jaen          |\n",
      "|ES#00217418                      |23001 - Jaén|I.2   Ayuda redistributiva complementaria a la renta para la sostenibilidad        |OE1            |66.84 |0.0     |0.0         |0.0         |66.84        |66.84      |4.2171519914836475|1.0         |1.0        |0.0         |0.0        |0           |0      |3.6607004706056694|-0.8711634876889341|0       |Jaen          |\n",
      "|ES#00209568                      |23001 - Jaén|I.2   Ayuda redistributiva complementaria a la renta para la sostenibilidad        |OE1            |67.57 |0.0     |0.0         |0.0         |67.57        |67.57      |4.227855121296273 |1.0         |1.0        |0.0         |0.0        |0           |0      |3.6584760962340863|-0.8717344918539689|0       |Jaen          |\n",
      "|ES#00208968                      |23001 - Jaén|I.2   Ayuda redistributiva complementaria a la renta para la sostenibilidad        |OE1            |69.78 |0.0     |0.0         |0.0         |69.78        |69.78      |4.259576474917317 |1.0         |1.0        |0.0         |0.0        |0           |0      |3.6519298285648465|-0.8734149401419558|0       |Jaen          |\n",
      "|ES#00228651                      |23001 - Jaén|I.2   Ayuda redistributiva complementaria a la renta para la sostenibilidad        |OE1            |69.78 |0.0     |0.0         |0.0         |69.78        |69.78      |4.259576474917317 |1.0         |1.0        |0.0         |0.0        |0           |0      |3.6519298285648465|-0.8734149401419558|0       |Jaen          |\n",
      "|ES#00211909                      |23001 - Jaén|I.2   Ayuda redistributiva complementaria a la renta para la sostenibilidad        |OE1            |72.72 |0.0     |0.0         |0.0         |72.72        |72.72      |4.300274132801622 |1.0         |1.0        |0.0         |0.0        |0           |0      |3.6436328216743203|-0.8755448089052077|0       |Jaen          |\n",
      "|ES#00215083                      |23001 - Jaén|I.4   Regímenes en favor del clima y el medio ambiente                             |OE4|OE5        |73.59 |0.0     |0.0         |0.0         |73.59        |73.59      |4.312006449967072 |1.0         |1.0        |0.0         |0.0        |0           |1      |4.006586039250463 |-0.5673181334535032|0       |Jaen          |\n",
      "|ES#00216169                      |23001 - Jaén|I.6   Ayuda a la renta asociada                                                    |OE2|OE5        |75.86 |0.0     |0.0         |0.0         |75.86        |75.86      |4.3419855851366975|1.0         |1.0        |0.0         |0.0        |0           |3      |3.409777615468754 |-1.1377724740029174|0       |Jaen          |\n",
      "|ES#00225744                      |23001 - Jaén|I.2   Ayuda redistributiva complementaria a la renta para la sostenibilidad        |OE1            |78.59 |0.0     |0.0         |0.0         |78.59        |78.59      |4.376888456817758 |1.0         |1.0        |0.0         |0.0        |0           |0      |3.6283261686977193|-0.8794740767092426|0       |Jaen          |\n",
      "|ES#00219139                      |23001 - Jaén|I.4   Regímenes en favor del clima y el medio ambiente                             |OE4|OE5        |92.65 |0.0     |0.0         |0.0         |92.65        |92.65      |4.539564428890097 |1.0         |1.0        |0.0         |0.0        |0           |1      |3.9675120931584935|-0.570597507674564 |0       |Jaen          |\n",
      "|CARMONA LABELLA MANUEL           |23001 - Jaén|I.6   Ayuda a la renta asociada                                                    |OE2|OE5        |94.17 |0.0     |0.0         |0.0         |94.17        |94.17      |4.555664766084252 |1.0         |1.0        |0.0         |0.0        |0           |3      |3.3774927258726386|-1.1484855278079136|0       |Jaen          |\n",
      "|HERMANOS RINCON GONZALEZ CB      |23001 - Jaén|I.6   Ayuda a la renta asociada                                                    |OE2|OE5        |101.49|0.0     |0.0         |0.0         |101.49       |101.49     |4.6297652328434715|1.0         |1.0        |0.0         |0.0        |0           |3      |3.367155610732167 |-1.151915679562301 |0       |Jaen          |\n",
      "|ES#00209915                      |23001 - Jaén|I.4   Regímenes en favor del clima y el medio ambiente                             |OE4|OE5        |108.87|0.0     |0.0         |0.0         |108.87       |108.87     |4.699297848712789 |1.0         |1.0        |0.0         |0.0        |0           |1      |3.9421596921536186|-0.572725268461808 |0       |Jaen          |\n",
      "|ES#00592736                      |23001 - Jaén|I.4   Regímenes en favor del clima y el medio ambiente                             |OE4|OE5        |112.1 |0.0     |0.0         |0.0         |112.1        |112.1      |4.728272383122075 |1.0         |1.0        |0.0         |0.0        |0           |1      |3.93774750503237  |-0.5730955718007609|0       |Jaen          |\n",
      "|ES#00220611                      |23001 - Jaén|I.2   Ayuda redistributiva complementaria a la renta para la sostenibilidad        |OE1            |113.95|0.0     |0.0         |0.0         |113.95       |113.95     |4.74449725120919  |1.0         |1.0        |0.0         |0.0        |0           |0      |3.5607130174414023|-0.8968305934321937|0       |Jaen          |\n",
      "|ES#00225964                      |23001 - Jaén|I.2   Ayuda redistributiva complementaria a la renta para la sostenibilidad        |OE1            |113.95|0.0     |0.0         |0.0         |113.95       |113.95     |4.74449725120919  |1.0         |1.0        |0.0         |0.0        |0           |0      |3.5607130174414023|-0.8968305934321937|0       |Jaen          |\n",
      "|PEREA MUÑOZ MIGUEL               |23001 - Jaén|I.6   Ayuda a la renta asociada                                                    |OE2|OE5        |116.14|0.0     |0.0         |0.0         |116.14       |116.14     |4.7633698006616365|1.0         |1.0        |0.0         |0.0        |0           |3      |3.349654934530854 |-1.1577229066618493|0       |Jaen          |\n",
      "|PEREZ MONTEJO CARMEN             |23001 - Jaén|I.6   Ayuda a la renta asociada                                                    |OE2|OE5        |117.71|0.0     |0.0         |0.0         |117.71       |117.71     |4.776683544065443 |1.0         |1.0        |0.0         |0.0        |0           |3      |3.347991852130115 |-1.158274765177215 |0       |Jaen          |\n",
      "|ES#00223607                      |23001 - Jaén|I.4   Regímenes en favor del clima y el medio ambiente                             |OE4|OE5        |117.91|0.0     |0.0         |0.0         |117.91       |117.91     |4.778366904449488 |1.0         |1.0        |0.0         |0.0        |0           |1      |3.9302556163851103|-0.5737243464435637|0       |Jaen          |\n",
      "|ES#00242536                      |23001 - Jaén|I.2   Ayuda redistributiva complementaria a la renta para la sostenibilidad        |OE1            |119.74|0.0     |0.0         |0.0         |119.74       |119.74     |4.79363947336828  |1.0         |1.0        |0.0         |0.0        |0           |0      |3.5524244088245958|-0.8989583063311567|0       |Jaen          |\n",
      "|ES#00220416                      |23001 - Jaén|I.4   Regímenes en favor del clima y el medio ambiente                             |OE4|OE5        |121.71|0.0     |0.0         |0.0         |121.71       |121.71     |4.809823847988456 |1.0         |1.0        |0.0         |0.0        |0           |1      |3.9256397900126805|-0.5741117406928933|0       |Jaen          |\n",
      "|ES#00211752                      |23001 - Jaén|I.2   Ayuda redistributiva complementaria a la renta para la sostenibilidad        |OE1            |124.26|0.0     |0.0         |0.0         |124.26       |124.26     |4.8303915770972665|1.0         |1.0        |0.0         |0.0        |0           |0      |3.5463437677283047|-0.9005192267573316|0       |Jaen          |\n",
      "|ES#00474472                      |23001 - Jaén|I.2   Ayuda redistributiva complementaria a la renta para la sostenibilidad        |OE1            |126.42|0.0     |0.0         |0.0         |126.42       |126.42     |4.847488716688342 |1.0         |1.0        |0.0         |0.0        |0           |0      |3.5435496759857945|-0.9012364792319353|0       |Jaen          |\n",
      "|ES#00208968                      |23001 - Jaén|I.4   Regímenes en favor del clima y el medio ambiente                             |OE4|OE5        |131.47|0.0     |0.0         |0.0         |131.47       |131.47     |4.88635620469617  |1.0         |1.0        |0.0         |0.0        |0           |1      |3.914697333832603 |-0.5750301124546695|0       |Jaen          |\n",
      "|ES#00207261                      |23001 - Jaén|I.2   Ayuda redistributiva complementaria a la renta para la sostenibilidad        |OE1            |131.63|0.0     |0.0         |0.0         |131.63       |131.63     |4.887563296506261 |1.0         |1.0        |0.0         |0.0        |0           |0      |3.5370870654901267|-0.9028954524502778|0       |Jaen          |\n",
      "|ES#00224996                      |23001 - Jaén|I.4   Regímenes en favor del clima y el medio ambiente                             |OE4|OE5        |132.14|0.0     |0.0         |0.0         |132.14       |132.14     |4.891401206172557 |1.0         |1.0        |0.0         |0.0        |0           |1      |3.913990384421151 |-0.5750894448719803|0       |Jaen          |\n",
      "|ORTEGA RAMIRO ANGEL              |23001 - Jaén|I.6   Ayuda a la renta asociada                                                    |OE2|OE5        |134.45|0.0     |0.0         |0.0         |134.45       |134.45     |4.908602568531104 |1.0         |1.0        |0.0         |0.0        |0           |3      |3.3323135624404254|-1.1634772720811313|0       |Jaen          |\n",
      "|ES#00227445                      |23001 - Jaén|I.2   Ayuda redistributiva complementaria a la renta para la sostenibilidad        |OE1            |136.04|0.0     |0.0         |0.0         |136.04       |136.04     |4.920272854015864 |1.0         |1.0        |0.0         |0.0        |0           |0      |3.5319024835312005|-0.9042263515697477|0       |Jaen          |\n",
      "|ES#00209828                      |23001 - Jaén|I.2   Ayuda redistributiva complementaria a la renta para la sostenibilidad        |OE1            |138.99|0.0     |0.0         |0.0         |138.99       |138.99     |4.941570991486734 |1.0         |1.0        |0.0         |0.0        |0           |0      |3.5285704712534094|-0.9050816900023748|0       |Jaen          |\n",
      "|ES#00208040                      |23001 - Jaén|I.4   Regímenes en favor del clima y el medio ambiente                             |OE4|OE5        |143.47|0.0     |0.0         |0.0         |143.47       |143.47     |4.97307187354129  |1.0         |1.0        |0.0         |0.0        |0           |1      |3.902794800153818 |-0.5760290610128633|0       |Jaen          |\n",
      "|ES#00211787                      |23001 - Jaén|I.2   Ayuda redistributiva complementaria a la renta para la sostenibilidad        |OE1            |149.07|0.0     |0.0         |0.0         |149.07       |149.07     |5.011101851907898 |1.0         |1.0        |0.0         |0.0        |0           |0      |3.5179345298637954|-0.9078119708894962|0       |Jaen          |\n",
      "|CARRILLO MARTINEZ JOSE LUIS      |23001 - Jaén|I.2   Ayuda redistributiva complementaria a la renta para la sostenibilidad        |OE1            |156.67|0.0     |0.0         |0.0         |156.67       |156.67     |5.06050424124939  |1.0         |1.0        |0.0         |0.0        |0           |0      |3.5106040014764055|-0.9096937414648901|0       |Jaen          |\n",
      "|ES#00219654                      |23001 - Jaén|I.2   Ayuda redistributiva complementaria a la renta para la sostenibilidad        |OE1            |159.62|0.0     |0.0         |0.0         |159.62       |159.62     |5.079041326760316 |1.0         |1.0        |0.0         |0.0        |0           |0      |3.5079022077090634|-0.9103873007478626|0       |Jaen          |\n",
      "|ES#00207989                      |23001 - Jaén|I.4   Regímenes en favor del clima y el medio ambiente                             |OE4|OE5        |169.26|0.0     |0.0         |0.0         |169.26       |169.26     |5.137326680455911 |1.0         |1.0        |0.0         |0.0        |0           |1      |3.8817098489349333|-0.5777986658875996|0       |Jaen          |\n",
      "|ES#00247210                      |23001 - Jaén|I.4   Regímenes en favor del clima y el medio ambiente                             |OE4|OE5        |171.15|0.0     |0.0         |0.0         |171.15       |171.15     |5.148366189784533 |1.0         |1.0        |0.0         |0.0        |0           |1      |3.8803618967168885|-0.5779117959959504|0       |Jaen          |\n",
      "|ES#00216669                      |23001 - Jaén|I.2   Ayuda redistributiva complementaria a la renta para la sostenibilidad        |OE1            |175.82|0.0     |0.0         |0.0         |175.82       |175.82     |5.175132265977658 |1.0         |1.0        |0.0         |0.0        |0           |0      |3.494326713003545 |-0.9138721745704926|0       |Jaen          |\n",
      "|ES#00217754                      |23001 - Jaén|I.2   Ayuda redistributiva complementaria a la renta para la sostenibilidad        |OE1            |180.24|0.0     |0.0         |0.0         |180.24       |180.24     |5.199822119798937 |1.0         |1.0        |0.0         |0.0        |0           |0      |3.49095561402323  |-0.914737546687298 |0       |Jaen          |\n",
      "|ES#00479854                      |23001 - Jaén|I.2   Ayuda redistributiva complementaria a la renta para la sostenibilidad        |OE1            |187.61|0.0     |0.0         |0.0         |187.61       |187.61     |5.23968139106308  |1.0         |1.0        |0.0         |0.0        |0           |0      |3.485614921034309 |-0.916108520017959 |0       |Jaen          |\n",
      "|GARCIA MONLLEO FEDERICO          |23001 - Jaén|I.2   Ayuda redistributiva complementaria a la renta para la sostenibilidad        |OE1            |192.03|0.0     |0.0         |0.0         |192.03       |192.03     |5.262845617239784 |1.0         |1.0        |0.0         |0.0        |0           |0      |3.4825690222899888|-0.9168904121722204|0       |Jaen          |\n",
      "|SANCHEZ LUNA FLORENTINA DEL ROCIO|23001 - Jaén|I.6   Ayuda a la renta asociada                                                    |OE2|OE5        |200.89|0.0     |0.0         |0.0         |200.89       |200.89     |5.307722994622132 |1.0         |1.0        |0.0         |0.0        |0           |3      |3.2938945641597708|-1.1762257993601046|0       |Jaen          |\n",
      "|ES#00223754                      |23001 - Jaén|I.2   Ayuda redistributiva complementaria a la renta para la sostenibilidad        |OE1            |201.16|0.0     |0.0         |0.0         |201.16       |201.16     |5.309059463079938 |1.0         |1.0        |0.0         |0.0        |0           |0      |3.476619860456158 |-0.9184175814423672|0       |Jaen          |\n",
      "|ES#00475076                      |23001 - Jaén|I.1   Ayuda básica a la renta para la sostenibilidad                               |OE1            |203.8 |0.0     |0.0         |0.0         |203.8        |203.8      |5.322033893165353 |1.0         |1.0        |0.0         |0.0        |0           |0      |3.470534828490898 |-0.919979629018945 |0       |Jaen          |\n",
      "|ES#00214162                      |23001 - Jaén|I.2   Ayuda redistributiva complementaria a la renta para la sostenibilidad        |OE1            |205.29|0.0     |0.0         |0.0         |205.29       |205.29     |5.329282945804916 |1.0         |1.0        |0.0         |0.0        |0           |0      |3.4740701026500225|-0.9190721125976138|0       |Jaen          |\n",
      "|ES#00216521                      |23001 - Jaén|I.4   Regímenes en favor del clima y el medio ambiente                             |OE4|OE5        |207.67|0.0     |0.0         |0.0         |207.67       |207.67     |5.340754056745293 |1.0         |1.0        |0.0         |0.0        |0           |1      |3.8582856327700084|-0.5797645991583014|0       |Jaen          |\n",
      "|ES#00228018                      |23001 - Jaén|I.4   Regímenes en favor del clima y el medio ambiente                             |OE4|OE5        |213.07|0.0     |0.0         |0.0         |213.07       |213.07     |5.366303064339131 |1.0         |1.0        |0.0         |0.0        |0           |1      |3.8555565564185708|-0.5799936434072018|0       |Jaen          |\n",
      "|ES#00210908                      |23001 - Jaén|I.4   Regímenes en favor del clima y el medio ambiente                             |OE4|OE5        |214.82|0.0     |0.0         |0.0         |214.82       |214.82     |5.374444726935588 |1.0         |1.0        |0.0         |0.0        |0           |1      |3.8546969323595084|-0.5800657894088485|0       |Jaen          |\n",
      "|ES#00223229                      |23001 - Jaén|I.4   Regímenes en favor del clima y el medio ambiente                             |OE4|OE5        |222.5 |0.0     |0.0         |0.0         |222.5        |222.5      |5.409411414053624 |1.0         |1.0        |0.0         |0.0        |0           |1      |3.851060343416911 |-0.5803709988187933|0       |Jaen          |\n",
      "|GARCIA GARCIA PEDRO              |23001 - Jaén|I.2   Ayuda redistributiva complementaria a la renta para la sostenibilidad        |OE1            |230.33|0.0     |0.0         |0.0         |230.33       |230.33     |5.443845262512979 |1.0         |1.0        |0.0         |0.0        |0           |0      |3.46024660126765  |-0.9226206505440754|0       |Jaen          |\n",
      "|MERINO POBLADOR MARIA JESUS      |23001 - Jaén|I.2   Ayuda redistributiva complementaria a la renta para la sostenibilidad        |OE1            |237.7 |0.0     |0.0         |0.0         |237.7        |237.7      |5.4752075333447845|1.0         |1.0        |0.0         |0.0        |0           |0      |3.456647255059912 |-0.9235446144695174|0       |Jaen          |\n",
      "|ES#00231742                      |23001 - Jaén|I.1   Ayuda básica a la renta para la sostenibilidad                               |OE1            |245.59|0.0     |0.0         |0.0         |245.59       |245.59     |5.507727038407604 |1.0         |1.0        |0.0         |0.0        |0           |0      |3.448525748005984 |-0.9256294318516077|0       |Jaen          |\n",
      "|ES#00210689                      |23001 - Jaén|I.1   Ayuda básica a la renta para la sostenibilidad                               |OE1            |251.05|0.0     |0.0         |0.0         |251.05       |251.05     |5.52962748052864  |1.0         |1.0        |0.0         |0.0        |0           |0      |3.44611463892655  |-0.9262483714259431|0       |Jaen          |\n",
      "|ES#00209271                      |23001 - Jaén|I.1   Ayuda básica a la renta para la sostenibilidad                               |OE1            |253.66|0.0     |0.0         |0.0         |253.66       |253.66     |5.53992932214529  |1.0         |1.0        |0.0         |0.0        |0           |0      |3.4449940348560566|-0.9265360341502493|0       |Jaen          |\n",
      "|CUENCA APARICIO MARIA DOLORES    |23001 - Jaén|I.6   Ayuda a la renta asociada                                                    |OE2|OE5        |253.73|0.0     |0.0         |0.0         |253.73       |253.73     |5.540204160679382 |1.0         |1.0        |0.0         |0.0        |0           |3      |3.2778985642264025|-1.1815337316496273|0       |Jaen          |\n",
      "|ES#00214369                      |23001 - Jaén|I.4   Regímenes en favor del clima y el medio ambiente                             |OE4|OE5        |259.32|0.0     |0.0         |0.0         |259.32       |259.32     |5.561911643470728 |1.0         |1.0        |0.0         |0.0        |0           |1      |3.836254486905519 |-0.5816136156778611|0       |Jaen          |\n",
      "|VALENZUELA RODRIGUEZ MARIA       |23001 - Jaén|I.2   Ayuda redistributiva complementaria a la renta para la sostenibilidad        |OE1            |262.74|0.0     |0.0         |0.0         |262.74       |262.74     |5.574963769379553 |1.0         |1.0        |0.0         |0.0        |0           |0      |3.445731437307967 |-0.9263467405328049|0       |Jaen          |\n",
      "|ES#00185315                      |23001 - Jaén|I.1   Ayuda básica a la renta para la sostenibilidad                               |OE1            |262.85|0.0     |0.0         |0.0         |262.85       |262.85     |5.575380759851677 |1.0         |1.0        |0.0         |0.0        |0           |0      |3.441204210476777 |-0.9275088944443459|0       |Jaen          |\n",
      "|CANO AGUERA MIGUEL ANGEL         |23001 - Jaén|I.4   Regímenes en favor del clima y el medio ambiente                             |OE4|OE5        |270.04|0.0     |0.0         |0.0         |270.04       |270.04     |5.60226641146369  |1.0         |1.0        |0.0         |0.0        |0           |1      |3.832625216035676 |-0.5819182109010769|0       |Jaen          |\n",
      "|ORTIZ MOLINA ENCARNACION         |23001 - Jaén|I.2   Ayuda redistributiva complementaria a la renta para la sostenibilidad        |OE1            |273.05|0.0     |0.0         |0.0         |273.05       |273.05     |5.613310571492126 |1.0         |1.0        |0.0         |0.0        |0           |0      |3.441752252748686 |-0.9273682102034766|0       |Jaen          |\n",
      "|ES#00208823                      |23001 - Jaén|I.1   Ayuda básica a la renta para la sostenibilidad                               |OE1            |288.76|0.0     |0.0         |0.0         |288.76       |288.76     |5.669052994135103 |1.0         |1.0        |0.0         |0.0        |0           |0      |3.431688314604339 |-0.9299516559896215|0       |Jaen          |\n",
      "|ROMERO ANASTASIO JUAN JOSE       |23001 - Jaén|I.6   Ayuda a la renta asociada                                                    |OE2|OE5        |289.83|0.0     |0.0         |0.0         |289.83       |289.83     |5.672738904024739 |1.0         |1.0        |0.0         |0.0        |0           |3      |3.270918735775907 |-1.1838498392366514|0       |Jaen          |\n",
      "|ES#00483290                      |23001 - Jaén|I.4   Regímenes en favor del clima y el medio ambiente                             |OE4|OE5        |290.96|0.0     |0.0         |0.0         |290.96       |290.96     |5.676616806583431 |1.0         |1.0        |0.0         |0.0        |0           |1      |3.8262569001377393|-0.5824526870181834|0       |Jaen          |\n",
      "|VILLAMOR CALLEJON MARIA ANTONIA  |23001 - Jaén|I.6   Ayuda a la renta asociada                                                    |OE2|OE5        |291.4 |0.0     |0.0         |0.0         |291.4        |291.4      |5.678122727875623 |1.0         |1.0        |0.0         |0.0        |0           |3      |3.2706682501952153|-1.1839329575479387|0       |Jaen          |\n",
      "|ES#00214102                      |23001 - Jaén|I.1   Ayuda básica a la renta para la sostenibilidad                               |OE1            |292.65|0.0     |0.0         |0.0         |292.65       |292.65     |5.682388581968528 |1.0         |1.0        |0.0         |0.0        |0           |0      |3.4303925735196565|-0.9302842769573922|0       |Jaen          |\n",
      "|VILCHEZ JIMENEZ ISABEL MARIA     |23001 - Jaén|I.2   Ayuda redistributiva complementaria a la renta para la sostenibilidad        |OE1            |296.62|0.0     |0.0         |0.0         |296.62       |296.62     |5.695817505001904 |1.0         |1.0        |0.0         |0.0        |0           |0      |3.43360177875686  |-0.929460463493119 |0       |Jaen          |\n",
      "|MARTINEZ ESTEBAN MANUEL          |23001 - Jaén|I.2   Ayuda redistributiva complementaria a la renta para la sostenibilidad        |OE1            |298.33|0.0     |0.0         |0.0         |298.33       |298.33     |5.701546643714625 |1.0         |1.0        |0.0         |0.0        |0           |0      |3.433056743492965 |-0.9296003758252113|0       |Jaen          |\n",
      "|ES#00228291                      |23001 - Jaén|I.1   Ayuda básica a la renta para la sostenibilidad                               |OE1            |299.1 |0.0     |0.0         |0.0         |299.1        |299.1      |5.704115752446322 |1.0         |1.0        |0.0         |0.0        |0           |0      |3.428313076013338 |-0.9308180907580081|0       |Jaen          |\n",
      "|ES#00222172                      |23001 - Jaén|I.1   Ayuda básica a la renta para la sostenibilidad                               |OE1            |301.9 |0.0     |0.0         |0.0         |301.9        |301.9      |5.713402718033191 |1.0         |1.0        |0.0         |0.0        |0           |0      |3.4274361886295552|-0.9310431906129619|0       |Jaen          |\n",
      "|ES#00210773                      |23001 - Jaén|I.1   Ayuda básica a la renta para la sostenibilidad                               |OE1            |303.65|0.0     |0.0         |0.0         |303.65       |303.65     |5.719163576694504 |1.0         |1.0        |0.0         |0.0        |0           |0      |3.426895845286299 |-0.9311818985137046|0       |Jaen          |\n",
      "|TORRES MORAL FERMIN              |23001 - Jaén|I.6   Ayuda a la renta asociada                                                    |OE2|OE5        |305.52|0.0     |0.0         |0.0         |305.52       |305.52     |5.725283006102203 |1.0         |1.0        |0.0         |0.0        |0           |3      |3.2685846827767095|-1.1846243450713292|0       |Jaen          |\n",
      "|ORTIZ MOLINA ENCARNACION         |23001 - Jaén|I.4   Regímenes en favor del clima y el medio ambiente                             |OE4|OE5        |311.13|0.0     |0.0         |0.0         |311.13       |311.13     |5.743419767694698 |1.0         |1.0        |0.0         |0.0        |0           |1      |3.8208883992004194|-0.5829032512775022|0       |Jaen          |\n",
      "|ES#00217234                      |23001 - Jaén|I.4   Regímenes en favor del clima y el medio ambiente                             |OE4|OE5        |319.49|0.0     |0.0         |0.0         |319.49       |319.49     |5.7698510746259055|1.0         |1.0        |0.0         |0.0        |0           |1      |3.818856964446476 |-0.583073744289602 |0       |Jaen          |\n",
      "|ES#00215536                      |23001 - Jaén|I.1   Ayuda básica a la renta para la sostenibilidad                               |OE1            |325.86|0.0     |0.0         |0.0         |325.86       |325.86     |5.789531944664912 |1.0         |1.0        |0.0         |0.0        |0           |0      |3.420518855966997 |-0.9328188924964723|0       |Jaen          |\n",
      "|ES#00592736                      |23001 - Jaén|I.1   Ayuda básica a la renta para la sostenibilidad                               |OE1            |327.25|0.0     |0.0         |0.0         |327.25       |327.25     |5.793775513182905 |1.0         |1.0        |0.0         |0.0        |0           |0      |3.4201475143580478|-0.9329142171001314|0       |Jaen          |\n",
      "|ES#00479854                      |23001 - Jaén|I.1   Ayuda básica a la renta para la sostenibilidad                               |OE1            |327.53|0.0     |0.0         |0.0         |327.53       |327.53     |5.794628157955778 |1.0         |1.0        |0.0         |0.0        |0           |0      |3.4200730838670155|-0.9329333236502374|0       |Jaen          |\n",
      "|TRILLO DEL JESUS FELIX           |23001 - Jaén|I.4   Regímenes en favor del clima y el medio ambiente                             |OE4|OE5        |336.6 |0.0     |0.0         |0.0         |336.6        |336.6      |5.821861762721802 |1.0         |1.0        |0.0         |0.0        |0           |1      |3.8150134353275167|-0.5833963216479509|0       |Jaen          |\n",
      "+---------------------------------+------------+-----------------------------------------------------------------------------------+---------------+------+--------+------------+------------+-------------+-----------+------------------+------------+-----------+------------+-----------+------------+-------+------------------+-------------------+--------+--------------+\n",
      "only showing top 100 rows\n",
      "\n"
     ]
    }
   ],
   "source": [
    "df.show(100, truncate=False)"
   ]
  },
  {
   "cell_type": "code",
   "execution_count": 19,
   "id": "b243b226",
   "metadata": {},
   "outputs": [
    {
     "name": "stdout",
     "output_type": "stream",
     "text": [
      "+--------+-------+\n",
      "|ANOMALIA|  count|\n",
      "+--------+-------+\n",
      "|       1|  44631|\n",
      "|       0|2173185|\n",
      "|    null|      1|\n",
      "+--------+-------+\n",
      "\n"
     ]
    }
   ],
   "source": [
    "df.groupBy(F.col(\"ANOMALIA\")).count().show()"
   ]
  },
  {
   "cell_type": "code",
   "execution_count": 10,
   "id": "3b65b71b",
   "metadata": {},
   "outputs": [],
   "source": [
    "# Anomalía por provincia\n",
    "anom_prov = (\n",
    "df.groupBy(\"PROVINCIA_SAFE\")\n",
    ".agg(F.count(\"*\").alias(\"n\"), F.sum(F.col(\"ANOMALIA\").cast(\"int\")).alias(\"anom\"))\n",
    ".withColumn(\"anom_rate\", F.col(\"anom\")/F.col(\"n\"))\n",
    ".orderBy(F.col(\"anom_rate\").desc(), F.col(\"n\").desc())\n",
    ")"
   ]
  },
  {
   "cell_type": "code",
   "execution_count": 11,
   "id": "e12dcb2e",
   "metadata": {},
   "outputs": [
    {
     "name": "stderr",
     "output_type": "stream",
     "text": [
      "[Stage 4:======================>                                    (3 + 5) / 8]\r"
     ]
    },
    {
     "name": "stdout",
     "output_type": "stream",
     "text": [
      "+--------------+-----+----+--------------------+\n",
      "|PROVINCIA_SAFE|n    |anom|anom_rate           |\n",
      "+--------------+-----+----+--------------------+\n",
      "|Ceuta         |84   |84  |1.0                 |\n",
      "|Melilla       |84   |84  |1.0                 |\n",
      "|SL            |1    |1   |1.0                 |\n",
      "|Alava         |8059 |6077|0.7540637796252637  |\n",
      "|Pontevedra    |10497|3575|0.3405734971896732  |\n",
      "|Ourense       |9558 |3242|0.33919229964427705 |\n",
      "|Guipuzcoa     |11093|2475|0.22311367529072387 |\n",
      "|Vizcaya       |9755 |1955|0.20041004613018965 |\n",
      "|Las-Palmas    |3940 |344 |0.08730964467005076 |\n",
      "|La-Rioja      |19794|1709|0.08633929473577852 |\n",
      "|Girona        |13388|843 |0.0629668359725127  |\n",
      "|Leon          |30820|897 |0.029104477611940297|\n",
      "|Teruel        |29622|709 |0.023934913240159342|\n",
      "|Barcelona     |31299|748 |0.023898527109492317|\n",
      "|A-Coruna      |29735|659 |0.02216243484109635 |\n",
      "|Navarra       |41046|857 |0.020879013789407007|\n",
      "|Caceres       |51830|1045|0.020162068300212232|\n",
      "|Cantabria     |20592|398 |0.019327894327894328|\n",
      "|Salamanca     |33515|620 |0.018499179471878263|\n",
      "|Lugo          |46425|851 |0.0183306408185245  |\n",
      "+--------------+-----+----+--------------------+\n",
      "only showing top 20 rows\n",
      "\n"
     ]
    },
    {
     "name": "stderr",
     "output_type": "stream",
     "text": [
      "                                                                                \r"
     ]
    }
   ],
   "source": [
    "anom_prov.show(truncate=False)"
   ]
  },
  {
   "cell_type": "code",
   "execution_count": 12,
   "id": "f7b6b304",
   "metadata": {},
   "outputs": [],
   "source": [
    "# Anomalías por provincia y medida (para heatmap)\n",
    "anom_prov_med = (\n",
    "df.groupBy(\"PROVINCIA_SAFE\",\"MEDIDA\")\n",
    ".agg(F.count(\"*\").alias(\"n\"), F.sum(F.col(\"ANOMALIA\").cast(\"int\")).alias(\"anom\"))\n",
    ".withColumn(\"anom_rate\", F.col(\"anom\")/F.col(\"n\"))\n",
    ")"
   ]
  },
  {
   "cell_type": "code",
   "execution_count": 13,
   "id": "f5ffa4aa",
   "metadata": {},
   "outputs": [],
   "source": [
    "# Top beneficiarios por anomaly_score (auditoría)\n",
    "topN = (\n",
    "df.orderBy(F.col(\"anomaly_score\").desc_nulls_last())\n",
    ".select(\"BENEFICIARIO\",\"PROVINCIA_SAFE\",\"MEDIDA\",\"IMPORTE_EUROS\",\"anomaly_score\",\"IS_RECUP_ANY\")\n",
    ".limit(200)\n",
    ")"
   ]
  },
  {
   "cell_type": "code",
   "execution_count": 14,
   "id": "dbedcf12",
   "metadata": {},
   "outputs": [],
   "source": [
    "by_cluster = (\n",
    "df.groupBy(\"cluster\")\n",
    ".agg(\n",
    "F.count(\"*\").alias(\"n\"),\n",
    "F.avg(\"anomaly_score\").alias(\"mean_score\"),\n",
    "F.expr(\"percentile(anomaly_score, 0.5)\").alias(\"median_score\"),\n",
    "F.avg(\"IMPORTE_ABS\").alias(\"mean_importe_abs\"),\n",
    ")\n",
    ".orderBy(\"cluster\")\n",
    ")"
   ]
  },
  {
   "cell_type": "code",
   "execution_count": 21,
   "id": "146cc98d",
   "metadata": {},
   "outputs": [
    {
     "name": "stderr",
     "output_type": "stream",
     "text": [
      "[Stage 23:======================================>                   (2 + 1) / 3]\r"
     ]
    },
    {
     "name": "stdout",
     "output_type": "stream",
     "text": [
      "+-------+-------+-----------------------+--------------------+------------------+\n",
      "|cluster|n      |mean_score             |median_score        |mean_importe_abs  |\n",
      "+-------+-------+-----------------------+--------------------+------------------+\n",
      "|0      |1190736|2.912861452648815E-14  |-0.1764727560433063 |2632.345441869625 |\n",
      "|1      |697349 |7.512292241348402E-16  |-0.18481922858886124|5575.4478011153415|\n",
      "|2      |40891  |9.007981076961579E-16  |-0.39405182396435223|2949.4293810373924|\n",
      "|3      |283465 |-1.3321651709245227E-14|-0.17419299640409347|2355.550334609195 |\n",
      "|4      |1      |null                   |null                |0.01              |\n",
      "|5      |5375   |9.094947017729283E-16  |-0.19574022878277014|4224.78377488372  |\n",
      "+-------+-------+-----------------------+--------------------+------------------+\n",
      "\n"
     ]
    },
    {
     "name": "stderr",
     "output_type": "stream",
     "text": [
      "                                                                                \r"
     ]
    }
   ],
   "source": [
    "by_cluster.show(truncate=False)"
   ]
  }
 ],
 "metadata": {
  "kernelspec": {
   "display_name": "ml-spark-use-case (3.11.7)",
   "language": "python",
   "name": "python3"
  },
  "language_info": {
   "codemirror_mode": {
    "name": "ipython",
    "version": 3
   },
   "file_extension": ".py",
   "mimetype": "text/x-python",
   "name": "python",
   "nbconvert_exporter": "python",
   "pygments_lexer": "ipython3",
   "version": "3.11.7"
  }
 },
 "nbformat": 4,
 "nbformat_minor": 5
}
